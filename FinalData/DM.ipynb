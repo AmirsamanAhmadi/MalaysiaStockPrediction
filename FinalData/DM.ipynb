{
 "cells": [
  {
   "cell_type": "code",
   "execution_count": 13,
   "metadata": {},
   "outputs": [],
   "source": [
    "import pandas as pd\n",
    "import numpy as np\n",
    "import seaborn as sns\n",
    "import tslearn\n",
    "from scipy import stats\n",
    "import matplotlib.pyplot as plt\n",
    "from sklearn import preprocessing"
   ]
  },
  {
   "cell_type": "code",
   "execution_count": 12,
   "metadata": {},
   "outputs": [],
   "source": [
    "missing_values = [\"n/a\", \"na\", \"--\"]"
   ]
  },
  {
   "cell_type": "code",
   "execution_count": 14,
   "metadata": {},
   "outputs": [],
   "source": [
    "stockdata = pd.read_csv(\"StockDataFinal.csv\", sep = \",\", na_values = missing_values)\n",
    "golddata = pd.read_csv(\"GoldDataFinal.csv\", sep = \",\",na_values = missing_values)\n",
    "silverdata = pd.read_csv(\"SilverDataFinal.csv\", sep = \",\",na_values = missing_values)\n",
    "oildata = pd.read_csv(\"OilDataFinal.csv\", sep = \",\",na_values = missing_values)\n",
    "gasdata = pd.read_csv(\"GasDataFinal.csv\", sep = \",\",na_values = missing_values)"
   ]
  },
  {
   "cell_type": "code",
   "execution_count": 15,
   "metadata": {},
   "outputs": [],
   "source": [
    "stock_missing = stockdata.isnull().sum()\n",
    "gold_missing = golddata.isnull().sum()\n",
    "silver_missing = silverdata.isnull().sum()\n",
    "oil_missing = oildata.isnull().sum()\n",
    "gas_missing = gasdata.isnull().sum()"
   ]
  },
  {
   "cell_type": "code",
   "execution_count": 20,
   "metadata": {},
   "outputs": [
    {
     "name": "stdout",
     "output_type": "stream",
     "text": [
      "Id             0\n",
      "stockdate      0\n",
      "sector         0\n",
      "subsector      0\n",
      "companyname    0\n",
      "stockcode      0\n",
      "openprice      0\n",
      "highprice      0\n",
      "lowprice       0\n",
      "lastprice      0\n",
      "volume         0\n",
      "created_at     0\n",
      "dtype: int64\n",
      "-------------------------\n",
      "Id            0\n",
      "golddate      0\n",
      "openprice     0\n",
      "highprice     0\n",
      "lowprice      0\n",
      "closeprice    0\n",
      "volume        0\n",
      "created_at    0\n",
      "dtype: int64\n",
      "-------------------------\n",
      "Id            0\n",
      "silverdate    0\n",
      "openprice     0\n",
      "highprice     0\n",
      "lowprice      0\n",
      "closeprice    0\n",
      "volume        0\n",
      "created_at    0\n",
      "dtype: int64\n",
      "-------------------------\n",
      "Id            0\n",
      "oildate       0\n",
      "openprice     0\n",
      "highprice     0\n",
      "lowprice      0\n",
      "closeprice    0\n",
      "volume        0\n",
      "created_at    0\n",
      "dtype: int64\n",
      "-------------------------\n",
      "Id            0\n",
      "gasdate       0\n",
      "openprice     0\n",
      "highprice     0\n",
      "lowprice      0\n",
      "closeprice    0\n",
      "volume        0\n",
      "created_at    0\n",
      "dtype: int64\n"
     ]
    }
   ],
   "source": [
    "print(stock_missing)\n",
    "print(\"-------------------------\")\n",
    "print(gold_missing)\n",
    "print(\"-------------------------\")\n",
    "print(silver_missing)\n",
    "print(\"-------------------------\")\n",
    "print(oil_missing)\n",
    "print(\"-------------------------\")\n",
    "print(gas_missing)"
   ]
  },
  {
   "cell_type": "code",
   "execution_count": 26,
   "metadata": {},
   "outputs": [
    {
     "data": {
      "text/plain": [
       "<bound method DataFrame.info of             Id            stockdate       sector     subsector companyname  \\\n",
       "0            1  2015-03-11 16:00:00  main_market    healthcare     ADVENTA   \n",
       "1            2  2015-03-12 16:00:00  main_market    healthcare     ADVENTA   \n",
       "2            3  2015-03-15 16:00:00  main_market    healthcare     ADVENTA   \n",
       "3            4  2015-03-16 16:00:00  main_market    healthcare     ADVENTA   \n",
       "4            5  2015-03-17 16:00:00  main_market    healthcare     ADVENTA   \n",
       "5            6  2015-03-18 16:00:00  main_market    healthcare     ADVENTA   \n",
       "6            7  2015-03-19 16:00:00  main_market    healthcare     ADVENTA   \n",
       "7            8  2015-03-22 16:00:00  main_market    healthcare     ADVENTA   \n",
       "8            9  2015-03-23 16:00:00  main_market    healthcare     ADVENTA   \n",
       "9           10  2015-03-24 16:00:00  main_market    healthcare     ADVENTA   \n",
       "10          11  2015-03-25 16:00:00  main_market    healthcare     ADVENTA   \n",
       "11          12  2015-03-26 16:00:00  main_market    healthcare     ADVENTA   \n",
       "12          13  2015-03-29 16:00:00  main_market    healthcare     ADVENTA   \n",
       "13          14  2015-03-30 16:00:00  main_market    healthcare     ADVENTA   \n",
       "14          15  2015-03-31 16:00:00  main_market    healthcare     ADVENTA   \n",
       "15          16  2015-04-01 16:00:00  main_market    healthcare     ADVENTA   \n",
       "16          17  2015-04-02 16:00:00  main_market    healthcare     ADVENTA   \n",
       "17          18  2015-04-05 16:00:00  main_market    healthcare     ADVENTA   \n",
       "18          19  2015-04-06 16:00:00  main_market    healthcare     ADVENTA   \n",
       "19          20  2015-04-07 16:00:00  main_market    healthcare     ADVENTA   \n",
       "20          21  2015-04-08 16:00:00  main_market    healthcare     ADVENTA   \n",
       "21          22  2015-04-09 16:00:00  main_market    healthcare     ADVENTA   \n",
       "22          23  2015-04-12 16:00:00  main_market    healthcare     ADVENTA   \n",
       "23          24  2015-04-13 16:00:00  main_market    healthcare     ADVENTA   \n",
       "24          25  2015-04-14 16:00:00  main_market    healthcare     ADVENTA   \n",
       "25          26  2015-04-15 16:00:00  main_market    healthcare     ADVENTA   \n",
       "26          27  2015-04-16 16:00:00  main_market    healthcare     ADVENTA   \n",
       "27          28  2015-04-19 16:00:00  main_market    healthcare     ADVENTA   \n",
       "28          29  2015-04-20 16:00:00  main_market    healthcare     ADVENTA   \n",
       "29          30  2015-04-21 16:00:00  main_market    healthcare     ADVENTA   \n",
       "...        ...                  ...          ...           ...         ...   \n",
       "974863  974864  2019-01-27 16:00:00          etf  etfcommodity     GOLDETF   \n",
       "974864  974865  2019-01-30 16:00:00          etf  etfcommodity     GOLDETF   \n",
       "974865  974866  2019-02-03 16:00:00          etf  etfcommodity     GOLDETF   \n",
       "974866  974867  2019-02-06 16:00:00          etf  etfcommodity     GOLDETF   \n",
       "974867  974868  2019-02-07 16:00:00          etf  etfcommodity     GOLDETF   \n",
       "974868  974869  2019-02-10 16:00:00          etf  etfcommodity     GOLDETF   \n",
       "974869  974870  2019-02-12 16:00:00          etf  etfcommodity     GOLDETF   \n",
       "974870  974871  2019-02-14 16:00:00          etf  etfcommodity     GOLDETF   \n",
       "974871  974872  2019-02-17 16:00:00          etf  etfcommodity     GOLDETF   \n",
       "974872  974873  2019-02-18 16:00:00          etf  etfcommodity     GOLDETF   \n",
       "974873  974874  2019-02-19 16:00:00          etf  etfcommodity     GOLDETF   \n",
       "974874  974875  2019-02-20 16:00:00          etf  etfcommodity     GOLDETF   \n",
       "974875  974876  2019-02-21 16:00:00          etf  etfcommodity     GOLDETF   \n",
       "974876  974877  2019-02-24 16:00:00          etf  etfcommodity     GOLDETF   \n",
       "974877  974878  2019-02-27 16:00:00          etf  etfcommodity     GOLDETF   \n",
       "974878  974879  2019-02-28 16:00:00          etf  etfcommodity     GOLDETF   \n",
       "974879  974880  2019-03-03 16:00:00          etf  etfcommodity     GOLDETF   \n",
       "974880  974881  2019-03-04 16:00:00          etf  etfcommodity     GOLDETF   \n",
       "974881  974882  2019-03-06 16:00:00          etf  etfcommodity     GOLDETF   \n",
       "974882  974883  2019-03-10 16:00:00          etf  etfcommodity     GOLDETF   \n",
       "974883  974884  2019-03-11 16:00:00          etf  etfcommodity     GOLDETF   \n",
       "974884  974885  2019-03-20 16:00:00          etf  etfcommodity     GOLDETF   \n",
       "974885  974886  2019-03-21 16:00:00          etf  etfcommodity     GOLDETF   \n",
       "974886  974887  2019-03-24 16:00:00          etf  etfcommodity     GOLDETF   \n",
       "974887  974888  2019-03-27 16:00:00          etf  etfcommodity     GOLDETF   \n",
       "974888  974889  2019-03-28 16:00:00          etf  etfcommodity     GOLDETF   \n",
       "974889  974890  2019-03-31 16:00:00          etf  etfcommodity     GOLDETF   \n",
       "974890  974891  2019-04-01 16:00:00          etf  etfcommodity     GOLDETF   \n",
       "974891  974892  2019-04-04 16:00:00          etf  etfcommodity     GOLDETF   \n",
       "974892  974893  2019-04-16 16:00:00          etf  etfcommodity     GOLDETF   \n",
       "\n",
       "       stockcode  openprice  highprice  lowprice  lastprice   volume  \\\n",
       "0           7191      0.900      0.910     0.900      0.910    13000   \n",
       "1           7191      0.960      0.960     0.910      0.910     7000   \n",
       "2           7191      0.910      0.910     0.910      0.910        0   \n",
       "3           7191      0.910      0.910     0.910      0.910        0   \n",
       "4           7191      0.960      0.960     0.920      0.930    12000   \n",
       "5           7191      0.900      0.900     0.880      0.880    67300   \n",
       "6           7191      0.900      0.900     0.900      0.900     5000   \n",
       "7           7191      0.900      0.900     0.900      0.900     1800   \n",
       "8           7191      0.830      0.865     0.830      0.850    35800   \n",
       "9           7191      0.880      0.890     0.880      0.885     4000   \n",
       "10          7191      0.850      0.890     0.850      0.890     6000   \n",
       "11          7191      0.890      0.890     0.890      0.890     3000   \n",
       "12          7191      0.890      0.890     0.890      0.890        0   \n",
       "13          7191      0.960      0.960     0.960      0.960     1000   \n",
       "14          7191      0.960      0.960     0.960      0.960        0   \n",
       "15          7191      0.930      0.950     0.930      0.950     3100   \n",
       "16          7191      0.950      0.950     0.950      0.950        0   \n",
       "17          7191      0.950      0.950     0.950      0.950        0   \n",
       "18          7191      0.885      0.890     0.885      0.890     5000   \n",
       "19          7191      0.900      0.900     0.900      0.900     2100   \n",
       "20          7191      0.900      0.900     0.880      0.890    35800   \n",
       "21          7191      0.890      0.890     0.890      0.890    22000   \n",
       "22          7191      0.890      0.890     0.890      0.890        0   \n",
       "23          7191      0.890      0.890     0.890      0.890     6000   \n",
       "24          7191      0.890      0.890     0.890      0.890     6700   \n",
       "25          7191      0.890      0.890     0.870      0.870     5000   \n",
       "26          7191      0.890      0.900     0.890      0.890    38000   \n",
       "27          7191      0.890      0.890     0.890      0.890        0   \n",
       "28          7191      0.900      0.910     0.900      0.910    43000   \n",
       "29          7191      0.910      0.910     0.910      0.910    19200   \n",
       "...          ...        ...        ...       ...        ...      ...   \n",
       "974863    0828EA      1.750      1.760     1.745      1.760    13000   \n",
       "974864    0828EA      1.775      1.775     1.775      1.775    25000   \n",
       "974865    0828EA      1.775      1.775     1.775      1.775      500   \n",
       "974866    0828EA      1.750      1.750     1.750      1.750    30000   \n",
       "974867    0828EA      1.755      1.755     1.755      1.755     5000   \n",
       "974868    0828EA      1.755      1.755     1.755      1.755     5000   \n",
       "974869    0828EA      1.745      1.745     1.745      1.745     5000   \n",
       "974870    0828EA      1.755      1.755     1.755      1.755    10000   \n",
       "974871    0828EA      1.770      1.780     1.770      1.780    20300   \n",
       "974872    0828EA      1.770      1.770     1.770      1.770     3000   \n",
       "974873    0828EA      1.785      1.785     1.785      1.785      200   \n",
       "974874    0828EA      1.795      1.795     1.795      1.795    25000   \n",
       "974875    0828EA      1.780      1.780     1.780      1.780    31100   \n",
       "974876    0828EA      1.770      1.780     1.765      1.765  1419000   \n",
       "974877    0828EA      1.765      1.770     1.765      1.770    26000   \n",
       "974878    0828EA      1.760      1.760     1.760      1.760    50000   \n",
       "974879    0828EA      1.740      1.740     1.740      1.740    50000   \n",
       "974880    0828EA      1.735      1.735     1.730      1.730     8400   \n",
       "974881    0828EA      1.730      1.730     1.730      1.730    80000   \n",
       "974882    0828EA      1.750      1.750     1.750      1.750      100   \n",
       "974883    0828EA      1.745      1.745     1.745      1.745   100000   \n",
       "974884    0828EA      1.765      1.765     1.765      1.765     6000   \n",
       "974885    0828EA      1.725      1.750     1.725      1.750   103100   \n",
       "974886    0828EA      1.765      1.765     1.765      1.765   102000   \n",
       "974887    0828EA      1.740      1.740     1.740      1.740     5000   \n",
       "974888    0828EA      1.740      1.740     1.735      1.735   122800   \n",
       "974889    0828EA      1.740      1.740     1.735      1.735     2500   \n",
       "974890    0828EA      1.740      1.740     1.735      1.735    10500   \n",
       "974891    0828EA      1.720      1.720     1.720      1.720     1100   \n",
       "974892    0828EA      1.720      1.720     1.720      1.720    30000   \n",
       "\n",
       "                 created_at  \n",
       "0       2019-04-19 17:35:44  \n",
       "1       2019-04-19 17:35:44  \n",
       "2       2019-04-19 17:35:44  \n",
       "3       2019-04-19 17:35:44  \n",
       "4       2019-04-19 17:35:44  \n",
       "5       2019-04-19 17:35:44  \n",
       "6       2019-04-19 17:35:44  \n",
       "7       2019-04-19 17:35:44  \n",
       "8       2019-04-19 17:35:44  \n",
       "9       2019-04-19 17:35:44  \n",
       "10      2019-04-19 17:35:44  \n",
       "11      2019-04-19 17:35:44  \n",
       "12      2019-04-19 17:35:44  \n",
       "13      2019-04-19 17:35:44  \n",
       "14      2019-04-19 17:35:44  \n",
       "15      2019-04-19 17:35:44  \n",
       "16      2019-04-19 17:35:44  \n",
       "17      2019-04-19 17:35:44  \n",
       "18      2019-04-19 17:35:44  \n",
       "19      2019-04-19 17:35:44  \n",
       "20      2019-04-19 17:35:44  \n",
       "21      2019-04-19 17:35:44  \n",
       "22      2019-04-19 17:35:44  \n",
       "23      2019-04-19 17:35:44  \n",
       "24      2019-04-19 17:35:44  \n",
       "25      2019-04-19 17:35:44  \n",
       "26      2019-04-19 17:35:44  \n",
       "27      2019-04-19 17:35:44  \n",
       "28      2019-04-19 17:35:44  \n",
       "29      2019-04-19 17:35:44  \n",
       "...                     ...  \n",
       "974863  2019-04-19 17:50:55  \n",
       "974864  2019-04-19 17:50:55  \n",
       "974865  2019-04-19 17:50:55  \n",
       "974866  2019-04-19 17:50:55  \n",
       "974867  2019-04-19 17:50:55  \n",
       "974868  2019-04-19 17:50:55  \n",
       "974869  2019-04-19 17:50:55  \n",
       "974870  2019-04-19 17:50:55  \n",
       "974871  2019-04-19 17:50:55  \n",
       "974872  2019-04-19 17:50:55  \n",
       "974873  2019-04-19 17:50:55  \n",
       "974874  2019-04-19 17:50:55  \n",
       "974875  2019-04-19 17:50:55  \n",
       "974876  2019-04-19 17:50:55  \n",
       "974877  2019-04-19 17:50:55  \n",
       "974878  2019-04-19 17:50:55  \n",
       "974879  2019-04-19 17:50:55  \n",
       "974880  2019-04-19 17:50:55  \n",
       "974881  2019-04-19 17:50:55  \n",
       "974882  2019-04-19 17:50:55  \n",
       "974883  2019-04-19 17:50:55  \n",
       "974884  2019-04-19 17:50:55  \n",
       "974885  2019-04-19 17:50:55  \n",
       "974886  2019-04-19 17:50:55  \n",
       "974887  2019-04-19 17:50:55  \n",
       "974888  2019-04-19 17:50:55  \n",
       "974889  2019-04-19 17:50:55  \n",
       "974890  2019-04-19 17:50:55  \n",
       "974891  2019-04-19 17:50:55  \n",
       "974892  2019-04-19 17:50:55  \n",
       "\n",
       "[974893 rows x 12 columns]>"
      ]
     },
     "execution_count": 26,
     "metadata": {},
     "output_type": "execute_result"
    }
   ],
   "source": [
    "stockdata.info"
   ]
  },
  {
   "cell_type": "code",
   "execution_count": 27,
   "metadata": {},
   "outputs": [
    {
     "data": {
      "text/plain": [
       "array(['main_market', 'ace_market', 'bond_loan', 'warrants', 'etf'],\n",
       "      dtype=object)"
      ]
     },
     "execution_count": 27,
     "metadata": {},
     "output_type": "execute_result"
    }
   ],
   "source": [
    "stockdata.sector.unique()"
   ]
  },
  {
   "cell_type": "code",
   "execution_count": 28,
   "metadata": {},
   "outputs": [
    {
     "data": {
      "text/plain": [
       "array(['healthcare', 'energy', 'tecnology', 'properties', 'utilities',\n",
       "       'finance', 'telco_media', 'consumer', 'constructn', 'reits',\n",
       "       'ind-prod', 'plantation', 'transport', 'specialpurposeacquis',\n",
       "       'closedfund', 'technology', 'bondislamic', 'etfbond', 'etfequity',\n",
       "       'etfcommodity'], dtype=object)"
      ]
     },
     "execution_count": 28,
     "metadata": {},
     "output_type": "execute_result"
    }
   ],
   "source": [
    "stockdata.subsector.unique()"
   ]
  },
  {
   "cell_type": "code",
   "execution_count": 34,
   "metadata": {},
   "outputs": [
    {
     "data": {
      "text/plain": [
       "<matplotlib.axes._subplots.AxesSubplot at 0x7f769f490ba8>"
      ]
     },
     "execution_count": 34,
     "metadata": {},
     "output_type": "execute_result"
    },
    {
     "data": {
      "image/png": "[encoded data removed]",
      "text/plain": [
       "<Figure size 432x288 with 1 Axes>"
      ]
     },
     "metadata": {
      "needs_background": "light"
     },
     "output_type": "display_data"
    }
   ],
   "source": [
    "sns.countplot(x=stockdata.sector)"
   ]
  },
  {
   "cell_type": "code",
   "execution_count": 36,
   "metadata": {},
   "outputs": [
    {
     "data": {
      "text/plain": [
       "<matplotlib.axes._subplots.AxesSubplot at 0x7f769ef524a8>"
      ]
     },
     "execution_count": 36,
     "metadata": {},
     "output_type": "execute_result"
    },
    {
     "data": {
      "image/png": "[encoded data removed]",
      "text/plain": [
       "<Figure size 432x288 with 1 Axes>"
      ]
     },
     "metadata": {
      "needs_background": "light"
     },
     "output_type": "display_data"
    }
   ],
   "source": [
    "sns.countplot(y=stockdata.subsector)"
   ]
  },
  {
   "cell_type": "code",
   "execution_count": 42,
   "metadata": {},
   "outputs": [
    {
     "data": {
      "text/html": [
       "<div>\n",
       "<style scoped>\n",
       "    .dataframe tbody tr th:only-of-type {\n",
       "        vertical-align: middle;\n",
       "    }\n",
       "\n",
       "    .dataframe tbody tr th {\n",
       "        vertical-align: top;\n",
       "    }\n",
       "\n",
       "    .dataframe thead th {\n",
       "        text-align: right;\n",
       "    }\n",
       "</style>\n",
       "<table border=\"1\" class=\"dataframe\">\n",
       "  <thead>\n",
       "    <tr style=\"text-align: right;\">\n",
       "      <th></th>\n",
       "      <th>Id</th>\n",
       "      <th>stockdate</th>\n",
       "      <th>sector</th>\n",
       "      <th>subsector</th>\n",
       "      <th>companyname</th>\n",
       "      <th>stockcode</th>\n",
       "      <th>openprice</th>\n",
       "      <th>highprice</th>\n",
       "      <th>lowprice</th>\n",
       "      <th>lastprice</th>\n",
       "      <th>volume</th>\n",
       "      <th>created_at</th>\n",
       "    </tr>\n",
       "  </thead>\n",
       "  <tbody>\n",
       "    <tr>\n",
       "      <th>0</th>\n",
       "      <td>1</td>\n",
       "      <td>2015-03-11 16:00:00</td>\n",
       "      <td>main_market</td>\n",
       "      <td>healthcare</td>\n",
       "      <td>ADVENTA</td>\n",
       "      <td>7191</td>\n",
       "      <td>0.90</td>\n",
       "      <td>0.91</td>\n",
       "      <td>0.90</td>\n",
       "      <td>0.91</td>\n",
       "      <td>13000</td>\n",
       "      <td>2019-04-19 17:35:44</td>\n",
       "    </tr>\n",
       "    <tr>\n",
       "      <th>1</th>\n",
       "      <td>2</td>\n",
       "      <td>2015-03-12 16:00:00</td>\n",
       "      <td>main_market</td>\n",
       "      <td>healthcare</td>\n",
       "      <td>ADVENTA</td>\n",
       "      <td>7191</td>\n",
       "      <td>0.96</td>\n",
       "      <td>0.96</td>\n",
       "      <td>0.91</td>\n",
       "      <td>0.91</td>\n",
       "      <td>7000</td>\n",
       "      <td>2019-04-19 17:35:44</td>\n",
       "    </tr>\n",
       "    <tr>\n",
       "      <th>2</th>\n",
       "      <td>3</td>\n",
       "      <td>2015-03-15 16:00:00</td>\n",
       "      <td>main_market</td>\n",
       "      <td>healthcare</td>\n",
       "      <td>ADVENTA</td>\n",
       "      <td>7191</td>\n",
       "      <td>0.91</td>\n",
       "      <td>0.91</td>\n",
       "      <td>0.91</td>\n",
       "      <td>0.91</td>\n",
       "      <td>0</td>\n",
       "      <td>2019-04-19 17:35:44</td>\n",
       "    </tr>\n",
       "    <tr>\n",
       "      <th>3</th>\n",
       "      <td>4</td>\n",
       "      <td>2015-03-16 16:00:00</td>\n",
       "      <td>main_market</td>\n",
       "      <td>healthcare</td>\n",
       "      <td>ADVENTA</td>\n",
       "      <td>7191</td>\n",
       "      <td>0.91</td>\n",
       "      <td>0.91</td>\n",
       "      <td>0.91</td>\n",
       "      <td>0.91</td>\n",
       "      <td>0</td>\n",
       "      <td>2019-04-19 17:35:44</td>\n",
       "    </tr>\n",
       "    <tr>\n",
       "      <th>4</th>\n",
       "      <td>5</td>\n",
       "      <td>2015-03-17 16:00:00</td>\n",
       "      <td>main_market</td>\n",
       "      <td>healthcare</td>\n",
       "      <td>ADVENTA</td>\n",
       "      <td>7191</td>\n",
       "      <td>0.96</td>\n",
       "      <td>0.96</td>\n",
       "      <td>0.92</td>\n",
       "      <td>0.93</td>\n",
       "      <td>12000</td>\n",
       "      <td>2019-04-19 17:35:44</td>\n",
       "    </tr>\n",
       "  </tbody>\n",
       "</table>\n",
       "</div>"
      ],
      "text/plain": [
       "   Id            stockdate       sector   subsector companyname stockcode  \\\n",
       "0   1  2015-03-11 16:00:00  main_market  healthcare     ADVENTA      7191   \n",
       "1   2  2015-03-12 16:00:00  main_market  healthcare     ADVENTA      7191   \n",
       "2   3  2015-03-15 16:00:00  main_market  healthcare     ADVENTA      7191   \n",
       "3   4  2015-03-16 16:00:00  main_market  healthcare     ADVENTA      7191   \n",
       "4   5  2015-03-17 16:00:00  main_market  healthcare     ADVENTA      7191   \n",
       "\n",
       "   openprice  highprice  lowprice  lastprice  volume           created_at  \n",
       "0       0.90       0.91      0.90       0.91   13000  2019-04-19 17:35:44  \n",
       "1       0.96       0.96      0.91       0.91    7000  2019-04-19 17:35:44  \n",
       "2       0.91       0.91      0.91       0.91       0  2019-04-19 17:35:44  \n",
       "3       0.91       0.91      0.91       0.91       0  2019-04-19 17:35:44  \n",
       "4       0.96       0.96      0.92       0.93   12000  2019-04-19 17:35:44  "
      ]
     },
     "execution_count": 42,
     "metadata": {},
     "output_type": "execute_result"
    }
   ],
   "source": [
    "stockdata2=stockdata\n",
    "stockdata2.head()"
   ]
  },
  {
   "cell_type": "code",
   "execution_count": 44,
   "metadata": {},
   "outputs": [
    {
     "data": {
      "text/plain": [
       "Id                      int64\n",
       "stockdate      datetime64[ns]\n",
       "sector                 object\n",
       "subsector              object\n",
       "companyname            object\n",
       "stockcode              object\n",
       "openprice             float64\n",
       "highprice             float64\n",
       "lowprice              float64\n",
       "lastprice             float64\n",
       "volume                  int64\n",
       "created_at             object\n",
       "dtype: object"
      ]
     },
     "execution_count": 44,
     "metadata": {},
     "output_type": "execute_result"
    }
   ],
   "source": [
    "stockdata2['stockdate'] = pd.to_datetime(stockdata['stockdate'])\n",
    "stockdata2.dtypes"
   ]
  },
  {
   "cell_type": "code",
   "execution_count": 48,
   "metadata": {},
   "outputs": [
    {
     "data": {
      "text/plain": [
       "<pandas.core.groupby.generic.DataFrameGroupBy object at 0x7f7695a4dbe0>"
      ]
     },
     "execution_count": 48,
     "metadata": {},
     "output_type": "execute_result"
    }
   ],
   "source": [
    "stockdata2.groupby(stockdata2['stockdate'].dt.strftime('%B'))['companyname'].sort_values()"
   ]
  },
  {
   "cell_type": "code",
   "execution_count": 50,
   "metadata": {},
   "outputs": [
    {
     "data": {
      "text/plain": [
       "<pandas.core.groupby.generic.SeriesGroupBy object at 0x7f768b45de10>"
      ]
     },
     "execution_count": 50,
     "metadata": {},
     "output_type": "execute_result"
    }
   ],
   "source": [
    "stockdata2.groupby(stockdata2['stockdate'].dt.strftime('%B'))"
   ]
  },
  {
   "cell_type": "code",
   "execution_count": 33,
   "metadata": {},
   "outputs": [
    {
     "data": {
      "text/plain": [
       "<matplotlib.axes._subplots.AxesSubplot at 0x7f76c85a1f98>"
      ]
     },
     "execution_count": 33,
     "metadata": {},
     "output_type": "execute_result"
    },
    {
     "data": {
      "image/png": "[encoded data removed]",
      "text/plain": [
       "<Figure size 432x288 with 1 Axes>"
      ]
     },
     "metadata": {
      "needs_background": "light"
     },
     "output_type": "display_data"
    }
   ],
   "source": [
    "sns.pairplot(CombinedData)"
   ]
  }
 ],
 "metadata": {
  "kernelspec": {
   "display_name": "Python 3",
   "language": "python",
   "name": "python3"
  },
  "language_info": {
   "codemirror_mode": {
    "name": "ipython",
    "version": 3
   },
   "file_extension": ".py",
   "mimetype": "text/x-python",
   "name": "python",
   "nbconvert_exporter": "python",
   "pygments_lexer": "ipython3",
   "version": "3.7.3"
  }
 },
 "nbformat": 4,
 "nbformat_minor": 2
}
